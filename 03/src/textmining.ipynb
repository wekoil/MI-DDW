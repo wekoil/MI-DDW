{
 "cells": [
  {
   "cell_type": "code",
   "execution_count": 1,
   "metadata": {},
   "outputs": [],
   "source": [
    "# importy\n",
    "import nltk\n",
    "import wikipedia\n",
    "from collections import Counter\n",
    "from string import punctuation\n",
    "import warnings\n",
    "warnings.filterwarnings('ignore')"
   ]
  },
  {
   "cell_type": "markdown",
   "metadata": {},
   "source": [
    "### POS tagging"
   ]
  },
  {
   "cell_type": "code",
   "execution_count": 2,
   "metadata": {},
   "outputs": [
    {
     "name": "stdout",
     "output_type": "stream",
     "text": [
      "POS Top 20\n",
      "[((',', ','), 753), (('.', '.'), 731), (('the', 'DT'), 684), (('and', 'CC'), 488), (('to', 'TO'), 435), (('of', 'IN'), 377), (('in', 'IN'), 254), (('a', 'DT'), 218), (('is', 'VBZ'), 203), (('this', 'DT'), 143), (('will', 'MD'), 138), (('we', 'PRP'), 137), (('for', 'IN'), 123), (('We', 'PRP'), 111), (('I', 'PRP'), 107), (('our', 'PRP$'), 94), (('be', 'VB'), 92), (('that', 'IN'), 91), (('are', 'VBP'), 90), (('have', 'VBP'), 86)]\n",
      "\n",
      "POS Top 20 without punctuation\n",
      "[(('the', 'DT'), 684), (('and', 'CC'), 488), (('to', 'TO'), 435), (('of', 'IN'), 377), (('in', 'IN'), 254), (('a', 'DT'), 218), (('is', 'VBZ'), 203), (('this', 'DT'), 143), (('will', 'MD'), 138), (('we', 'PRP'), 137), (('for', 'IN'), 123), (('We', 'PRP'), 111), (('I', 'PRP'), 107), (('our', 'PRP$'), 94), (('be', 'VB'), 92), (('that', 'IN'), 91), (('are', 'VBP'), 90), (('have', 'VBP'), 86), (('Russia', 'NNP'), 79), (('must', 'MD'), 78)]\n"
     ]
    }
   ],
   "source": [
    "text = None\n",
    "with open('text.txt', 'r') as file:\n",
    "    text = file.read()\n",
    "tokens = nltk.word_tokenize(text)\n",
    "pos = nltk.pos_tag(tokens)\n",
    "\n",
    "count = Counter(pos)\n",
    "sort_pos = sorted(count.items(), key=lambda count:count[1], reverse=True)\n",
    "print('POS Top 20')\n",
    "print(sort_pos[:20])\n",
    "print()\n",
    "\n",
    "nopunc = [token for token in tokens if token not in punctuation]\n",
    "tagged = nltk.pos_tag(nopunc)\n",
    "\n",
    "count = Counter(tagged)\n",
    "sort_tagged = sorted(count.items(), key=lambda count:count[1], reverse=True)\n",
    "print('POS Top 20 without punctuation')\n",
    "print(sort_tagged[:20])"
   ]
  },
  {
   "cell_type": "markdown",
   "metadata": {},
   "source": [
    "### NER with entity classification (using nltk.ne_chunk)"
   ]
  },
  {
   "cell_type": "code",
   "execution_count": 3,
   "metadata": {},
   "outputs": [
    {
     "name": "stdout",
     "output_type": "stream",
     "text": [
      "NER Top 20\n",
      "[('Yekaterinburg', 'GSP'), ('Syria', 'GSP'), ('Federation Council', 'ORGANIZATION'), ('State Duma', 'ORGANIZATION'), ('Address', 'ORGANIZATION'), ('GDP', 'ORGANIZATION'), ('Particular', 'ORGANIZATION'), ('Technical', 'ORGANIZATION'), ('Crimean Bridge', 'ORGANIZATION'), ('Azov', 'ORGANIZATION'), ('Arctic', 'ORGANIZATION'), ('Spatial Development Strategy', 'ORGANIZATION'), ('Extreme North', 'ORGANIZATION'), ('Popular', 'ORGANIZATION'), ('Medical', 'ORGANIZATION'), ('Volunteers', 'ORGANIZATION'), ('NPOs', 'ORGANIZATION'), ('Sciences', 'ORGANIZATION'), ('Council', 'ORGANIZATION'), ('Science', 'ORGANIZATION')]\n"
     ]
    }
   ],
   "source": [
    "text = None\n",
    "with open('text.txt', 'r') as file:\n",
    "    text = file.read()\n",
    "    \n",
    "tokens = nltk.word_tokenize(text)\n",
    "tagged = nltk.pos_tag(tokens)\n",
    "\n",
    "ne_chunked = nltk.ne_chunk(tagged)\n",
    "ner = {}\n",
    "for entity in ne_chunked:\n",
    "    if isinstance(entity, nltk.tree.Tree):\n",
    "        text = \" \".join([word for word, tag in entity.leaves()])\n",
    "        ent = entity.label()\n",
    "        ner[text] = ent\n",
    "    else:\n",
    "        continue\n",
    "\n",
    "sort_ner = sorted(ner.items(), key=lambda entity: entity[1][1], reverse=True)\n",
    "print('NER Top 20')\n",
    "print(sort_ner[:20])"
   ]
  },
  {
   "cell_type": "markdown",
   "metadata": {},
   "source": [
    "### NER with custom patterns"
   ]
  },
  {
   "cell_type": "code",
   "execution_count": 4,
   "metadata": {},
   "outputs": [],
   "source": [
    "# text = None\n",
    "# with open('text.txt', 'r') as file:\n",
    "#     text = file.read()\n",
    "    \n",
    "# text_pos = nltk.pos_tag(nltk.word_tokenize(text))\n",
    "# grammar = \"NP: {<DT>?<JJ>*<NN|NNS>}\"\n",
    "# cp = nltk.RegexpParser(grammar)\n",
    "# result = cp.parse(text_pos)\n",
    "# custom_ner = {}\n",
    "# for entity in result:\n",
    "#     if isinstance(entity, nltk.tree.Tree):\n",
    "#         text = \" \".join([word for word, tag in entity.leaves()])\n",
    "#         ent = entity.label()\n",
    "#         custom_ner[text] = ent\n",
    "#     else:\n",
    "#         continue\n",
    "# sort_custom_ner = sorted(custom_ner.items(), key=lambda entity: entity[1][1], reverse=True)\n",
    "# print('Custom NER Top 20')\n",
    "# print(sort_custom_ner[:20])\n"
   ]
  },
  {
   "cell_type": "code",
   "execution_count": 5,
   "metadata": {},
   "outputs": [
    {
     "name": "stdout",
     "output_type": "stream",
     "text": [
      "Custom NER Top 20\n",
      "[('Russia', 48), ('Colleagues', 15), ('US', 11), ('Video', 7), ('Today', 6), ('Government', 5), ('GDP', 5), ('Soviet Union', 5), ('USSR', 5), ('Armed Forces', 4), ('Sarmat', 4), ('Mach', 4), ('Vladivostok', 3), ('Russiaís', 3), ('December', 3), ('A', 3), ('Missile Treaty', 3), ('United States', 3), ('Defence Ministry', 3), ('Address', 2)]\n"
     ]
    }
   ],
   "source": [
    "text = None\n",
    "with open('text.txt', 'r') as file:\n",
    "    text = file.read()\n",
    "    \n",
    "tokens = nltk.word_tokenize(text)\n",
    "tagged = nltk.pos_tag(tokens)\n",
    "entity = []\n",
    "custom_ner = []\n",
    "for tagged_entry in tagged:\n",
    "    if(tagged_entry[1].startswith(\"NN\") or (entity and tagged_entry[1].startswith(\"IN\"))):\n",
    "        entity.append(tagged_entry)\n",
    "    else:\n",
    "        if(entity) and entity[-1][1].startswith(\"IN\"):\n",
    "            entity.pop()\n",
    "        if(entity and \" \".join(e[0] for e in entity)[0].isupper()):\n",
    "            custom_ner.append(\" \".join(e[0] for e in entity))\n",
    "        entity = []\n",
    "count = Counter(custom_ner)\n",
    "sort_custom_ner = sorted(count.items(), key=lambda count:count[1], reverse=True)\n",
    "print('Custom NER Top 20')\n",
    "print(sort_custom_ner[:20])"
   ]
  },
  {
   "cell_type": "markdown",
   "metadata": {},
   "source": [
    "### Custom entity classification"
   ]
  },
  {
   "cell_type": "code",
   "execution_count": 6,
   "metadata": {
    "scrolled": true
   },
   "outputs": [],
   "source": [
    "def wiki(name):\n",
    "    try:\n",
    "        page = wikipedia.page(name)\n",
    "        summary = page.summary\n",
    "    except:\n",
    "        return \"\"\n",
    "    return nltk.sent_tokenize(summary)[0]\n",
    "\n",
    "def wikidescription(name):\n",
    "    sent = wiki(name)\n",
    "    if sent == \"\":\n",
    "        return \"a Thing\"\n",
    "    \n",
    "    text_pos = nltk.pos_tag(nltk.word_tokenize(sent))\n",
    "    \n",
    "    grammar = \"NP: {<DT>?<JJ>*<NN|NNS>}\"\n",
    "    cp = nltk.RegexpParser(grammar)\n",
    "    result = cp.parse(text_pos)\n",
    "    data = {}\n",
    "    for entity in result:\n",
    "        if isinstance(entity, nltk.tree.Tree):\n",
    "            text = \" \".join([word for word, tag in entity.leaves()])\n",
    "            ent = entity.label()\n",
    "            data[text] = ent\n",
    "        else:\n",
    "            continue\n",
    "    str = \"\"\n",
    "    for data in data:\n",
    "        str+=data\n",
    "        if (str[-1] != ' '):\n",
    "            str += ' '\n",
    "    return str\n",
    "    "
   ]
  },
  {
   "cell_type": "markdown",
   "metadata": {},
   "source": [
    "### wikipedia-based classification using nltk entities as the input"
   ]
  },
  {
   "cell_type": "code",
   "execution_count": 7,
   "metadata": {},
   "outputs": [
    {
     "name": "stdout",
     "output_type": "stream",
     "text": [
      "Yekaterinburg  -  Екатеринбу́рг [ jɪkətʲɪrʲɪnˈburk the fourth-largest city the administrative centre east the middle the Eurasian continent the Asian side the boundary \n",
      "Syria  -  الجمهورية السورية‎ al-Jumhūrīyah al-ʻArabīyah as-Sūrīyah a country the southwest the west the north the east the south \n",
      "Federation Council  -  Сове́т Федера́ции common abbreviation Совфед the upper house the parliament \n",
      "State Duma  -  Госуда́рственная ду́ма tr \n",
      "Address  -  An address a collection information format the location a building apartment other structure a plot land political boundaries street names references other identifiers house numbers \n",
      "GDP  -  domestic product a monetary measure the market value the final goods services a period time capita reflect differences the cost living the inflation rates the countries a basis power parity differences standards nations \n",
      "Particular  -  metaphysics particulars concrete spatiotemporal entities entities properties numbers \n",
      "Technical  -  a Thing\n",
      "Crimean Bridge  -  Крымский мост tr \n",
      "Azov  -  Азов the stress the second syllable a town kilometers mi name the town \n",
      "Arctic  -  a polar region part \n",
      "Spatial Development Strategy  -  a document \n",
      "Extreme North  -  Крайний Север a large part enormous mineral natural resources \n",
      "Popular  -  a Thing\n",
      "Medical  -  the science practice the diagnosis prognosis treatment prevention disease \n",
      "Volunteers  -  a Thing\n",
      "NPOs  -  a Thing\n",
      "Sciences  -  Science word scientia knowledge a systematic enterprise the form testable explanations predictions roots science \n",
      "Council  -  A council a group people decisions \n",
      "Science  -  Science word scientia knowledge a systematic enterprise the form testable explanations predictions roots science \n"
     ]
    }
   ],
   "source": [
    "c = 0\n",
    "for i in sort_ner:\n",
    "    print(i[0], ' - ', wikidescription(i[0]))\n",
    "    c+= 1\n",
    "    if c == 20:\n",
    "        break"
   ]
  },
  {
   "cell_type": "markdown",
   "metadata": {},
   "source": [
    "### wikipedia-based classification using custom patterns as the input"
   ]
  },
  {
   "cell_type": "code",
   "execution_count": 8,
   "metadata": {},
   "outputs": [
    {
     "name": "stdout",
     "output_type": "stream",
     "text": [
      "Russia  -  Росси́я tr \n",
      "Colleagues  -  A college collegium an educational institution a constituent part \n",
      "US  -  .us country top-level domain ccTLD \n",
      "Video  -  an electronic medium the recording copying playback broadcasting display visual media \n",
      "Today  -  a Thing\n",
      "Government  -  A government the system group people community a state.In the case broad associative definition government legislature executive judiciary \n",
      "GDP  -  domestic product a monetary measure the market value the final goods services a period time capita reflect differences the cost living the inflation rates the countries a basis power parity differences standards nations \n",
      "Soviet Union  -  a socialist state \n",
      "USSR  -  a socialist state \n",
      "Armed Forces  -  A military a heavily-armed highly-organised force warfare armed forces \n",
      "Sarmat  -  РС-28 Сармат heavy thermonuclear intercontinental ballistic missile development \n",
      "Mach  -  fluid dynamics number [ max ] a dimensionless quantity the ratio flow velocity a boundary the local speed sound \n",
      "Vladivostok  -  Владивосто́к [ vlədʲɪvɐˈstok ruler the east a city the administrative center borders \n",
      "Russiaís  -  Russians русские tr \n",
      "December  -  the twelfth final month the year months a length days \n",
      "A  -  aes the first letter the first vowel alphabet \n",
      "Missile Treaty  -  an arms control treaty the limitation the anti-ballistic missile systems areas ballistic missile-delivered nuclear weapons \n",
      "United States  -  a country states a federal district major self-governing territories various possessions \n",
      "Defence Ministry  -  differences the common name a part the government states ministries departments matters defence \n",
      "Address  -  An address a collection information format the location a building apartment other structure a plot land political boundaries street names references other identifiers house numbers \n"
     ]
    }
   ],
   "source": [
    "c = 0\n",
    "for i in sort_custom_ner:\n",
    "    print(i[0], ' - ', wikidescription(i[0]))\n",
    "    c+= 1\n",
    "    if c == 20:\n",
    "        break"
   ]
  },
  {
   "cell_type": "code",
   "execution_count": null,
   "metadata": {},
   "outputs": [],
   "source": []
  }
 ],
 "metadata": {
  "kernelspec": {
   "display_name": "Python 3",
   "language": "python",
   "name": "python3"
  },
  "language_info": {
   "codemirror_mode": {
    "name": "ipython",
    "version": 3
   },
   "file_extension": ".py",
   "mimetype": "text/x-python",
   "name": "python",
   "nbconvert_exporter": "python",
   "pygments_lexer": "ipython3",
   "version": "3.7.0"
  }
 },
 "nbformat": 4,
 "nbformat_minor": 2
}
