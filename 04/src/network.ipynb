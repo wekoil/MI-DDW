{
 "cells": [
  {
   "cell_type": "code",
   "execution_count": 1,
   "metadata": {},
   "outputs": [],
   "source": [
    "import csv\n",
    "import networkx as nx\n",
    "import matplotlib.pyplot as plt\n",
    "from networkx.algorithms import community"
   ]
  },
  {
   "cell_type": "code",
   "execution_count": 2,
   "metadata": {},
   "outputs": [],
   "source": [
    "data = []\n",
    "with open('casts.csv') as file:\n",
    "    read = csv.reader(file, delimiter=';')\n",
    "    for row in read:\n",
    "        data.append(row)"
   ]
  },
  {
   "cell_type": "code",
   "execution_count": 3,
   "metadata": {},
   "outputs": [],
   "source": [
    "# movieID, movieName, actorName, roleType, role\n",
    "\n",
    "# role\n",
    "# short description of the role prefixed by R:\n",
    "# If the trole is uncertain, the RZ: is used as the prefix\n",
    "# If the name used in the role is significant (as in Biographical Movies), this role name follows in \"quotes\", as R:king \"Henry V\"\n",
    "# If only the role name is known, then the prefix is RN:\n",
    "# If the role is unknown, then only RU: is entered.\n",
    "    \n",
    "movies = {}\n",
    "\n",
    "for row in data:\n",
    "    movie = row[1]\n",
    "    actor = row[2]\n",
    "    if movie not in movies:\n",
    "        movies[movie] = []\n",
    "    movies[movie].append(actor) "
   ]
  },
  {
   "cell_type": "code",
   "execution_count": 4,
   "metadata": {},
   "outputs": [],
   "source": [
    "graph = nx.Graph()\n",
    "for movie, actors in movies.items():\n",
    "    for actor in actors:\n",
    "        graph.add_node(actor)\n",
    "        for actor2 in actors:\n",
    "            if (actor != actor2):\n",
    "                graph.add_edge(actor, actor2)"
   ]
  },
  {
   "cell_type": "markdown",
   "metadata": {},
   "source": [
    "# General statistics"
   ]
  },
  {
   "cell_type": "code",
   "execution_count": 5,
   "metadata": {},
   "outputs": [
    {
     "name": "stdout",
     "output_type": "stream",
     "text": [
      "Number of nodes:  16615\n",
      "Number of edges:  155660\n",
      "Density :  0.0011278009862353722\n",
      "Number of components:  637\n"
     ]
    }
   ],
   "source": [
    "# number of nodes and edges, density, number of components\n",
    "print('Number of nodes: ', nx.number_of_nodes(graph))\n",
    "print('Number of edges: ', nx.number_of_edges(graph))\n",
    "print('Density : ', nx.density(graph))\n",
    "print('Number of components: ', nx.number_connected_components(graph))\n"
   ]
  },
  {
   "cell_type": "markdown",
   "metadata": {},
   "source": [
    "# Centralities"
   ]
  },
  {
   "cell_type": "code",
   "execution_count": 6,
   "metadata": {},
   "outputs": [],
   "source": [
    "#(degree, closeness, betweenness, eigenvector)\n",
    "cents = {\n",
    "# 'betweenness_centrality': nx.betweenness_centrality(graph, k=myk),\n",
    "# 'closeness_centrality' : nx.closeness_centrality(graph),\n",
    "'degree_centrality' : nx.degree_centrality(graph),\n",
    "'eigenvector_centrality' : nx.eigenvector_centrality_numpy(graph)\n",
    "}"
   ]
  },
  {
   "cell_type": "code",
   "execution_count": 7,
   "metadata": {},
   "outputs": [
    {
     "name": "stdout",
     "output_type": "stream",
     "text": [
      "degree_centrality\n",
      "('s a', 0.19922956542674852)\n",
      "('Humphrey Bogart', 0.025941976646201997)\n",
      "('James Stewart', 0.022511135187191524)\n",
      "('Gary Cooper', 0.022270374383050438)\n",
      "('John Gielgud', 0.022270374383050438)\n",
      "('John Carradine', 0.022089803779944624)\n",
      "('Peter Lorre', 0.021668472372697724)\n",
      "('C.Aubrey Smith', 0.02028409774888648)\n",
      "('Henry Fonda', 0.01950162513542795)\n",
      "('Burt Lancaster', 0.018779342723004695)\n",
      "\n",
      "eigenvector_centrality\n",
      "('s a', 0.32566004242875807)\n",
      "('C.Aubrey Smith', 0.08708906128312012)\n",
      "('John Carradine', 0.08560732265089027)\n",
      "('James Stewart', 0.08366500255035038)\n",
      "('John Gielgud', 0.08139785940349979)\n",
      "('Peter Lorre', 0.07888583301737864)\n",
      "('Gary Cooper', 0.07783469695716107)\n",
      "('Basil Rathbone', 0.07530887475478036)\n",
      "('Humphrey Bogart', 0.07458256884204434)\n",
      "('Henry Fonda', 0.07436749327030842)\n",
      "\n"
     ]
    }
   ],
   "source": [
    "for cent in cents:\n",
    "    print(cent)\n",
    "    sort = sorted(cents[cent].items(), key=lambda element: element[1], reverse=True)\n",
    "#     for actor, value in cents[cent].items():\n",
    "#         print(actor, ' ', value)\n",
    "    for actor in sort[:10]:\n",
    "        print(actor)\n",
    "    print()\n",
    "    "
   ]
  },
  {
   "cell_type": "markdown",
   "metadata": {},
   "source": [
    "# Communities"
   ]
  },
  {
   "cell_type": "code",
   "execution_count": 8,
   "metadata": {},
   "outputs": [
    {
     "name": "stdout",
     "output_type": "stream",
     "text": [
      "1157  communities for clique:  3\n",
      "2074  communities for clique:  4\n",
      "2738  communities for clique:  5\n",
      "2782  communities for clique:  6\n",
      "2349  communities for clique:  7\n",
      "1828  communities for clique:  8\n",
      "1342  communities for clique:  9\n"
     ]
    }
   ],
   "source": [
    "for i in range(3,10):\n",
    "    com = nx.algorithms.community.k_clique_communities(graph, i)\n",
    "    print(len(list(com)), ' communities for clique: ', i)"
   ]
  },
  {
   "cell_type": "markdown",
   "metadata": {},
   "source": [
    "# Kevin Bacon numbers"
   ]
  },
  {
   "cell_type": "code",
   "execution_count": 9,
   "metadata": {},
   "outputs": [],
   "source": [
    "length = nx.single_source_shortest_path_length(graph, 'Kevin Bacon')"
   ]
  },
  {
   "cell_type": "code",
   "execution_count": 10,
   "metadata": {},
   "outputs": [
    {
     "name": "stdout",
     "output_type": "stream",
     "text": [
      "Top ten:\n",
      "Paredes   6\n",
      "Antonia SanJuan   6\n",
      "Elisa Touati   6\n",
      "Marbel Verdu   6\n",
      "Maria deMederios   6\n",
      "Barbara Dennek   6\n",
      "Jacqueline Lecomte   6\n",
      "Henri Piccoli   6\n",
      "Robert Castle   6\n",
      "Hilmar Thate   5\n",
      "\n",
      "Last ten:\n",
      "Tom Cruise   1\n",
      "Jack Nicholson   1\n",
      "Demi Moore   1\n",
      "J.A. Preston   1\n",
      "Michael deLeon   1\n",
      "Kiefer Sutherland   1\n",
      "Evan Rachel   1\n",
      "Mary Stuart Masterson   1\n",
      "Cathy Moriarty   1\n",
      "Kevin Bacon   0\n",
      "\n",
      "Average:  2.813836143938388\n"
     ]
    }
   ],
   "source": [
    "suml = 0\n",
    "count = 0\n",
    "for actor, value in length.items():\n",
    "    suml += value\n",
    "    count += 1\n",
    "    \n",
    "sort = sorted(length.items(), key=lambda element: element[1], reverse=True)  \n",
    "\n",
    "print('Top ten:')\n",
    "for actor, value in sort[:10]:\n",
    "    print(actor, ' ', value)\n",
    "    \n",
    "print()\n",
    "print('Last ten:')\n",
    "for actor, value in sort[-10:]:\n",
    "    print(actor, ' ', value)\n",
    "\n",
    "print()\n",
    "print('Average: ', suml/count)"
   ]
  },
  {
   "cell_type": "code",
   "execution_count": 11,
   "metadata": {},
   "outputs": [],
   "source": [
    "nx.write_gexf(graph, \"export.gexf\")"
   ]
  }
 ],
 "metadata": {
  "kernelspec": {
   "display_name": "Python 3",
   "language": "python",
   "name": "python3"
  },
  "language_info": {
   "codemirror_mode": {
    "name": "ipython",
    "version": 3
   },
   "file_extension": ".py",
   "mimetype": "text/x-python",
   "name": "python",
   "nbconvert_exporter": "python",
   "pygments_lexer": "ipython3",
   "version": "3.7.0"
  }
 },
 "nbformat": 4,
 "nbformat_minor": 2
}
