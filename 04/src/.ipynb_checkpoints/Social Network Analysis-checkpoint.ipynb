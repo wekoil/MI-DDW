{
 "cells": [
  {
   "cell_type": "code",
   "execution_count": 1,
   "metadata": {},
   "outputs": [],
   "source": [
    "import csv\n",
    "import networkx as nx\n",
    "import matplotlib.pyplot as plt\n",
    "from networkx.algorithms import community"
   ]
  },
  {
   "cell_type": "code",
   "execution_count": 2,
   "metadata": {},
   "outputs": [],
   "source": [
    "data = []\n",
    "with open('casts.csv') as file:\n",
    "    read = csv.reader(file, delimiter=';')\n",
    "    for row in read:\n",
    "        data.append(row)"
   ]
  },
  {
   "cell_type": "code",
   "execution_count": 3,
   "metadata": {},
   "outputs": [],
   "source": [
    "# movieID, movieName, actorName, roleType, role\n",
    "\n",
    "# role\n",
    "# short description of the role prefixed by R:\n",
    "# If the trole is uncertain, the RZ: is used as the prefix\n",
    "# If the name used in the role is significant (as in Biographical Movies), this role name follows in \"quotes\", as R:king \"Henry V\"\n",
    "# If only the role name is known, then the prefix is RN:\n",
    "# If the role is unknown, then only RU: is entered.\n",
    "    \n",
    "movies = {}\n",
    "\n",
    "for row in data:\n",
    "    movie = row[1]\n",
    "    actor = row[2]\n",
    "    if movie not in movies:\n",
    "        movies[movie] = []\n",
    "    movies[movie].append(actor) "
   ]
  },
  {
   "cell_type": "code",
   "execution_count": 4,
   "metadata": {},
   "outputs": [],
   "source": [
    "graph = nx.Graph()\n",
    "for movie, actors in movies.items():\n",
    "    for actor in actors:\n",
    "        graph.add_node(actor)\n",
    "        for actor2 in actors:\n",
    "            if (actor != actor2):\n",
    "                graph.add_edge(actor, actor2)"
   ]
  },
  {
   "cell_type": "code",
   "execution_count": null,
   "metadata": {},
   "outputs": [
    {
     "name": "stdout",
     "output_type": "stream",
     "text": [
      "Number of nodes:  16615\n",
      "Number of edges:  155660\n",
      "Density :  0.0011278009862353722\n",
      "Number of components:  637\n"
     ]
    }
   ],
   "source": [
    "# number of nodes and edges, density, number of components\n",
    "print('Number of nodes: ', nx.number_of_nodes(graph))\n",
    "print('Number of edges: ', nx.number_of_edges(graph))\n",
    "print('Density : ', nx.density(graph))\n",
    "print('Number of components: ', nx.number_connected_components(graph))\n"
   ]
  },
  {
   "cell_type": "code",
   "execution_count": null,
   "metadata": {},
   "outputs": [],
   "source": [
    "#(degree, closeness, betweenness, eigenvector)\n",
    "cents = {\n",
    "'betweenness_centrality': nx.betweenness_centrality(graph),\n",
    "# 'closeness_centrality' : nx.closeness_centrality(graph),\n",
    "# 'degree_centrality' : nx.degree_centrality(graph),\n",
    "# 'eigenvector_centrality' : nx.eigenvector_centrality_numpy(graph)\n",
    "}"
   ]
  },
  {
   "cell_type": "code",
   "execution_count": null,
   "metadata": {},
   "outputs": [],
   "source": [
    "for cent in cents:\n",
    "    print(cent)\n",
    "    sort = sorted(cents[cent].items(), key=lambda element: element[1], reverse=True)\n",
    "#     for actor, value in cents[cent].items():\n",
    "#         print(actor, ' ', value)\n",
    "    for actor in sort[:10]:\n",
    "        print(actor)\n",
    "    print()\n",
    "    "
   ]
  },
  {
   "cell_type": "code",
   "execution_count": null,
   "metadata": {},
   "outputs": [],
   "source": [
    "communities_generator = community.girvan_newman(graph)\n",
    "top_level_communities = next(communities_generator)"
   ]
  },
  {
   "cell_type": "code",
   "execution_count": null,
   "metadata": {},
   "outputs": [],
   "source": [
    "\n",
    "for com in map(sorted, top_level_communities[:10]):\n",
    "    print(com)\n",
    "    print()"
   ]
  },
  {
   "cell_type": "code",
   "execution_count": null,
   "metadata": {},
   "outputs": [],
   "source": [
    "length = nx.single_source_shortest_path_length(graph, 'Kevin Bacon')"
   ]
  },
  {
   "cell_type": "code",
   "execution_count": null,
   "metadata": {},
   "outputs": [],
   "source": [
    "suml = 0\n",
    "count = 0\n",
    "for actor, value in length.items():\n",
    "    suml += value\n",
    "    count += 1\n",
    "    \n",
    "sort = sorted(length.items(), key=lambda element: element[1], reverse=True)  \n",
    "\n",
    "print('Top ten:')\n",
    "for actor, value in sort[:10]:\n",
    "    print(actor, ' ', value)\n",
    "    \n",
    "print()\n",
    "print('Last ten:')\n",
    "for actor, value in sort[-10:]:\n",
    "    print(actor, ' ', value)\n",
    "\n",
    "print()\n",
    "print('Average: ', suml/count)"
   ]
  },
  {
   "cell_type": "code",
   "execution_count": null,
   "metadata": {},
   "outputs": [],
   "source": [
    "nx.write_gexf(graph, \"exportSmall.gexf\")"
   ]
  }
 ],
 "metadata": {
  "kernelspec": {
   "display_name": "Python 3",
   "language": "python",
   "name": "python3"
  },
  "language_info": {
   "codemirror_mode": {
    "name": "ipython",
    "version": 3
   },
   "file_extension": ".py",
   "mimetype": "text/x-python",
   "name": "python",
   "nbconvert_exporter": "python",
   "pygments_lexer": "ipython3",
   "version": "3.7.0"
  }
 },
 "nbformat": 4,
 "nbformat_minor": 2
}
