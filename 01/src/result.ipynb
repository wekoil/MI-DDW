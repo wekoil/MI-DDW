{
 "cells": [
  {
   "cell_type": "code",
   "execution_count": 3,
   "metadata": {},
   "outputs": [],
   "source": [
    "import json\n",
    "import time\n",
    "import requests\n",
    "from bs4 import BeautifulSoup"
   ]
  },
  {
   "cell_type": "code",
   "execution_count": null,
   "metadata": {},
   "outputs": [],
   "source": [
    "url = 'https://www.fitness007.cz//vyrobci/'\n",
    "page = requests.get(url)\n",
    "soup = BeautifulSoup(page.content, 'html.parser')\n",
    "vyrobci = []\n",
    " \n",
    "for link in soup.findAll('a',attrs='fancy-title'):\n",
    "    vyrobci.append(link.get('href'))\n",
    "\n",
    "vyrobce_json = {}\n",
    "\n",
    "#jednolivy vyrobce\n",
    "for vyrobce in vyrobci:\n",
    "    time.sleep(1)\n",
    "    vyrobce_page = requests.get(vyrobce)\n",
    "    soup = BeautifulSoup(vyrobce_page.content, 'html.parser')\n",
    "    # jmeno vyrobce\n",
    "    jmeno_vyrobce = soup.find('div', attrs='box-list__text').find('h1').getText()\n",
    "    #popis vyrobce\n",
    "    try:\n",
    "        popis_vyrobce = soup.find('div', attrs='box-list__text').find('p').getText()\n",
    "    except:\n",
    "        popis_vyrobce = \"\"\n",
    "    vyrobce_json[jmeno_vyrobce] = {\n",
    "        'popis': popis_vyrobce\n",
    "    }\n",
    "    \n",
    "    # dalsi stranka\n",
    "    for link in soup.findAll('a', attrs='js-nextPage list-pagination__item__in'):\n",
    "        vyrobci.append(link.get('href'))\n",
    "        \n",
    "    # vsechny polozky na strance\n",
    "    items = []\n",
    "    for link in soup.findAll('a', attrs='list-products__item__in'):\n",
    "        items.append(link.get('href'))\n",
    "    \n",
    "    items_json = {}\n",
    "    for item in items:\n",
    "        #zpracovani polozky\n",
    "        time.sleep(1)\n",
    "        item_page = requests.get(item)\n",
    "        soup = BeautifulSoup(item_page.content, 'html.parser')\n",
    "        # jmeno\n",
    "        jmeno = soup.select('h1.box-product__title')[0].text.strip()\n",
    "        # cena\n",
    "        cena = soup.find('p', attrs='box-product__price js-priceWithVat').getText()\n",
    "        #popis\n",
    "        try:\n",
    "            popis = soup.find('article', attrs='box-product-info').getText()\n",
    "        except:\n",
    "            popis = \"\"\n",
    "        items_json[jmeno] = {\n",
    "            'cena': cena,\n",
    "            'popis': popis,\n",
    "            'vyrobce': jmeno_vyrobce\n",
    "        }\n",
    "        \n",
    "with open(\"items.json\", \"w+\") as write_file:\n",
    "        json.dump(items_json, write_file)\n",
    "\n",
    "with open(\"vyrobci.json\", \"w+\") as write_file:\n",
    "    json.dump(vyrobce_json, write_file)"
   ]
  },
  {
   "cell_type": "code",
   "execution_count": 4,
   "metadata": {},
   "outputs": [],
   "source": [
    "with open(\"vyrobci.json\", \"a+\") as write_file:\n",
    "    json.dump(vyrobce_json, write_file)"
   ]
  },
  {
   "cell_type": "code",
   "execution_count": 6,
   "metadata": {},
   "outputs": [
    {
     "data": {
      "text/plain": [
       "<div class=\"box-list__text\">\n",
       "<h1>\n",
       "\t\t\t\t\tAlavis/Barnys \n",
       "\t\t\t\t</h1>\n",
       "</div>"
      ]
     },
     "execution_count": 6,
     "metadata": {},
     "output_type": "execute_result"
    }
   ],
   "source": [
    "soup.find('div', attrs='box-list__text')"
   ]
  },
  {
   "cell_type": "code",
   "execution_count": 7,
   "metadata": {},
   "outputs": [
    {
     "data": {
      "text/plain": [
       "<div class=\"box-list__text\">\n",
       "<h1>\n",
       "\t\t\t\t\tAlavis/Barnys \n",
       "\t\t\t\t</h1>\n",
       "</div>"
      ]
     },
     "execution_count": 7,
     "metadata": {},
     "output_type": "execute_result"
    }
   ],
   "source": [
    "soup.find('div', attrs='box-list__text')"
   ]
  },
  {
   "cell_type": "code",
   "execution_count": null,
   "metadata": {},
   "outputs": [],
   "source": []
  }
 ],
 "metadata": {
  "kernelspec": {
   "display_name": "Python 3",
   "language": "python",
   "name": "python3"
  },
  "language_info": {
   "codemirror_mode": {
    "name": "ipython",
    "version": 3
   },
   "file_extension": ".py",
   "mimetype": "text/x-python",
   "name": "python",
   "nbconvert_exporter": "python",
   "pygments_lexer": "ipython3",
   "version": "3.7.0"
  }
 },
 "nbformat": 4,
 "nbformat_minor": 2
}
